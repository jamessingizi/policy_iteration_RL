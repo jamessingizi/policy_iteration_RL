{
  "nbformat": 4,
  "nbformat_minor": 0,
  "metadata": {
    "colab": {
      "name": "policy_iterarion.ipynb",
      "version": "0.3.2",
      "provenance": [],
      "collapsed_sections": []
    },
    "kernelspec": {
      "name": "python3",
      "display_name": "Python 3"
    }
  },
  "cells": [
    {
      "metadata": {
        "id": "aaov2fmlS8uA",
        "colab_type": "code",
        "colab": {
          "base_uri": "https://localhost:8080/",
          "height": 394
        },
        "outputId": "a793d5c3-fc07-4258-c8d3-c8c41a23b4d1"
      },
      "cell_type": "code",
      "source": [
        "!pip install gym\n",
        "import numpy\n",
        "import time\n",
        "import gym"
      ],
      "execution_count": 4,
      "outputs": [
        {
          "output_type": "stream",
          "text": [
            "Collecting gym\n",
            "\u001b[?25l  Downloading https://files.pythonhosted.org/packages/c3/44/3a63e8b87f642db49ac81239620e68df8cfae223dcfda4f8508aec88d204/gym-0.10.8.tar.gz (1.5MB)\n",
            "\u001b[K    100% |████████████████████████████████| 1.5MB 7.1MB/s \n",
            "\u001b[?25hRequirement already satisfied: scipy in /usr/local/lib/python3.6/dist-packages (from gym) (0.19.1)\n",
            "Requirement already satisfied: numpy>=1.10.4 in /usr/local/lib/python3.6/dist-packages (from gym) (1.14.6)\n",
            "Requirement already satisfied: requests>=2.0 in /usr/local/lib/python3.6/dist-packages (from gym) (2.18.4)\n",
            "Requirement already satisfied: six in /usr/local/lib/python3.6/dist-packages (from gym) (1.11.0)\n",
            "Collecting pyglet>=1.2.0 (from gym)\n",
            "\u001b[?25l  Downloading https://files.pythonhosted.org/packages/1c/fc/dad5eaaab68f0c21e2f906a94ddb98175662cc5a654eee404d59554ce0fa/pyglet-1.3.2-py2.py3-none-any.whl (1.0MB)\n",
            "\u001b[K    100% |████████████████████████████████| 1.0MB 8.7MB/s \n",
            "\u001b[?25hRequirement already satisfied: chardet<3.1.0,>=3.0.2 in /usr/local/lib/python3.6/dist-packages (from requests>=2.0->gym) (3.0.4)\n",
            "Requirement already satisfied: certifi>=2017.4.17 in /usr/local/lib/python3.6/dist-packages (from requests>=2.0->gym) (2018.8.24)\n",
            "Requirement already satisfied: idna<2.7,>=2.5 in /usr/local/lib/python3.6/dist-packages (from requests>=2.0->gym) (2.6)\n",
            "Requirement already satisfied: urllib3<1.23,>=1.21.1 in /usr/local/lib/python3.6/dist-packages (from requests>=2.0->gym) (1.22)\n",
            "Requirement already satisfied: future in /usr/local/lib/python3.6/dist-packages (from pyglet>=1.2.0->gym) (0.16.0)\n",
            "Building wheels for collected packages: gym\n",
            "  Running setup.py bdist_wheel for gym ... \u001b[?25l-\b \b\\\b \b|\b \b/\b \bdone\n",
            "\u001b[?25h  Stored in directory: /root/.cache/pip/wheels/ea/ec/dd/33bcc8801d345f0b640fced8a0864a7c8474828564bc5ccf70\n",
            "Successfully built gym\n",
            "Installing collected packages: pyglet, gym\n",
            "Successfully installed gym-0.10.8 pyglet-1.3.2\n"
          ],
          "name": "stdout"
        }
      ]
    },
    {
      "metadata": {
        "id": "u-vJNtn_T4O6",
        "colab_type": "code",
        "colab": {
          "base_uri": "https://localhost:8080/",
          "height": 34
        },
        "outputId": "589d8bec-ac57-4168-d3f7-a4483ece17ea"
      },
      "cell_type": "code",
      "source": [
        "#the fynction to execute policy iteration\n",
        "\n",
        "def execute(env, policy, episodeLength=100, render=False):\n",
        "  totalReward = 0\n",
        "  start = env.reset()\n",
        "  for t in range(episodeLength):\n",
        "    if render:\n",
        "      env.render()\n",
        "    action = policy[start]\n",
        "    start,reward, done,_ = env.step(action)\n",
        "    totalReward+=reward\n",
        "    \n",
        "    if done:\n",
        "      break\n",
        "  return totalReward\n",
        "\n",
        "#evaluation\n",
        "def evaluatePolicy(env,policy,n_episodes = 100):\n",
        "  totalReward = 0.0\n",
        "  for _ in range(n_episodes):\n",
        "    totalReward += execute(env,policy)\n",
        "  return totalReward/n_episodes\n",
        "\n",
        "#function for generating a random policy\n",
        "def gen_random_policy():\n",
        "  return numpy.random.choice(4,size=((16)))\n",
        "\n",
        "if __name__ =='__main__':\n",
        "  env = gym.make('FrozenLake-v0')\n",
        "  \n",
        "  #policy search\n",
        "  n_policies = 1000\n",
        "  \n",
        "  startTime = time.time()\n",
        "  policy_set = [gen_random_policy() for _ in range(n_policies)]\n",
        "  policy_score = [evaluatePolicy(env,p) for p in policy_set]\n",
        "  endTime = time.time()\n",
        "  print(\"Best score = %0.2f Time taken = %4.4f seconds\" %(numpy.max(policy_score), endTime-startTime))\n",
        "  \n",
        "\n",
        "  \n",
        "    "
      ],
      "execution_count": 11,
      "outputs": [
        {
          "output_type": "stream",
          "text": [
            "Best score = 0.51 Time taken = 8.3469 seconds\n"
          ],
          "name": "stdout"
        }
      ]
    }
  ]
}